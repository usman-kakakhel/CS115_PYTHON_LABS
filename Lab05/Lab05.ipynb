{
 "cells": [
  {
   "cell_type": "markdown",
   "metadata": {},
   "source": [
    "# CS 115 - Introduction to Programming in Python\n",
    "## Lab 05\n",
    "\n",
    "### Lab Objectives:  Lists, Dictionaries\n",
    "\n",
    "**Instructions:** In this lab, you will use Jupyter Notebook. Write your solutions in this notebook, rename it as SS_Lab05_Surname_FirstName.ipynb where SS is the section number 01, 02, 03, etc. and upload it to the Lab05 assignment on Moodle before the end of your lab session. "
   ]
  },
  {
   "cell_type": "markdown",
   "metadata": {},
   "source": [
    "<font color=red>** Question 1**</font> You will write code to store and manipulate lists of data. Complete the steps below."
   ]
  },
  {
   "cell_type": "markdown",
   "metadata": {},
   "source": [
    "First write a function called **fill_list()** which takes an empty list, a minimum value and maximum value \n",
    "as parameters and fills the list with unique random integers between the min and max values (inclusive). Stop filling the list when a duplicate value is generated."
   ]
  },
  {
   "cell_type": "code",
   "execution_count": 19,
   "metadata": {},
   "outputs": [],
   "source": [
    "def fill_list(a, b):\n",
    "    import random\n",
    "    L = []\n",
    "    bbool = False\n",
    "    c = 0\n",
    "    while(bbool == False):\n",
    "        c = random.randint(a,b)\n",
    "        for item in L :\n",
    "            if (item == c):\n",
    "                bbool = True\n",
    "                \n",
    "        if (bbool == False):\n",
    "            L.insert(0,c)\n",
    "    return L"
   ]
  },
  {
   "cell_type": "markdown",
   "metadata": {},
   "source": [
    "Then write another function named **update_elements()** which takes a list as a parameter and returns a new list\n",
    "where each element in the original list except the first and last elements are replaced with the larger of \n",
    "its neighbor."
   ]
  },
  {
   "cell_type": "code",
   "execution_count": 21,
   "metadata": {},
   "outputs": [],
   "source": [
    "def update_elements(aList):\n",
    "    myList = []\n",
    "    myList.insert(0,int(aList[0]))\n",
    "    temp = 0\n",
    "    for a in range (1, len(aList) - 1):\n",
    "        temp = aList[a]\n",
    "        if (temp < aList[a-1]):\n",
    "            temp = aList[a-1]\n",
    "        if (temp < aList[a+1]):\n",
    "            temp = aList[a+1]\n",
    "        myList.insert(0,temp)\n",
    "    myList.insert(0,aList[len(aList) - 1])\n",
    "    myList.reverse()    \n",
    "    return myList"
   ]
  },
  {
   "cell_type": "markdown",
   "metadata": {},
   "source": [
    "Using the functions defined above, write code to produce the output shown below in the sample run. \n",
    "\n",
    "**Sample Run:**\n",
    "\n",
    "Enter lower bound: 5\n",
    "\n",
    "Enter upper bound: 50\n",
    "\n",
    "Original List:  [11, 26, 50, 16, 14, 32, 37]\n",
    "\n",
    "Updated List - larger of neighbors:  [11, 50, 26, 50, 32"
   ]
  },
  {
   "cell_type": "code",
   "execution_count": 22,
   "metadata": {},
   "outputs": [
    {
     "name": "stdout",
     "output_type": "stream",
     "text": [
      "Enter lower Bound: 5\n",
      "Enter upper Bound: 50\n",
      "original list:  [25, 43, 41, 23, 19, 20, 39, 27]\n",
      "New List:  [25, 43, 43, 41, 23, 39, 39, 27]\n"
     ]
    }
   ],
   "source": [
    "x = int(input(\"Enter lower Bound: \"))\n",
    "y = int(input(\"Enter upper Bound: \"))\n",
    "L = fill_list(x, y)\n",
    "print(\"original list: \", L)\n",
    "P = update_elements(L)\n",
    "print(\"New List: \", P)"
   ]
  },
  {
   "cell_type": "markdown",
   "metadata": {},
   "source": [
    "**Question 2**  You will write code that is used to track all previous and current owners of a car \n",
    "(by its license plate number).  Your program should store the list of cars and owners in a dictionary,\n",
    "where the key is the plate number of the car, and the value is a list of previous owners.  You should define the following 3 functions."
   ]
  },
  {
   "cell_type": "markdown",
   "metadata": {},
   "source": [
    "Define a function named **addCar()** that takes a dictionary of cars, a plate number and owner name as parameters and creates a dictionary entry for the car and adds the first owner to the list of owners(values).  Display error message if car already exists and success message if car is successfully added to the dictionary."
   ]
  },
  {
   "cell_type": "code",
   "execution_count": 40,
   "metadata": {},
   "outputs": [],
   "source": [
    "def addCar(myDict, plateNum, name):\n",
    "    if plateNum in myDict:\n",
    "        print(\"error,  car already exists\")\n",
    "    else:\n",
    "        L = []\n",
    "        L.insert(0, name)\n",
    "        myDict[plateNum] = L\n",
    "        print(\"Done\")"
   ]
  },
  {
   "cell_type": "markdown",
   "metadata": {},
   "source": [
    "Define a function called **updateCar()** that takes a dictionary of cars, a plate number and owner name as parameters, and adds the owner to the list of owners. If the car is not in the dictionary, display an error message."
   ]
  },
  {
   "cell_type": "code",
   "execution_count": 41,
   "metadata": {},
   "outputs": [],
   "source": [
    "def updateCar(myDict, plateNum, name):\n",
    "    if plateNum in myDict:\n",
    "        myDict[plateNum].insert(0,name)\n",
    "        print(\"Done\")\n",
    "    else:\n",
    "        print(\"error,  car does not exist\")"
   ]
  },
  {
   "cell_type": "markdown",
   "metadata": {},
   "source": [
    "Define a function named **findCar()** function that takes a dictionary of cars and plate number as a parameter and returns the list of owners of the given car.  Return None if the car is not in the list. "
   ]
  },
  {
   "cell_type": "code",
   "execution_count": 42,
   "metadata": {},
   "outputs": [],
   "source": [
    "def findCar(myDict, plateNum):\n",
    "    if plateNum in myDict:\n",
    "        return  myDict[plateNum]\n",
    "    else:\n",
    "        return None"
   ]
  },
  {
   "cell_type": "markdown",
   "metadata": {},
   "source": [
    "Using your functions defined in Q2 above, write code to create a dictionary and implement the menu shown below. \n",
    "\n",
    "1)Add Car\n",
    "\n",
    "2)Search Car\n",
    "\n",
    "3)Update Owner\n",
    "\n",
    "4)Quit\n",
    "\n",
    "See a [sample run](Q2_sample_run.txt)"
   ]
  },
  {
   "cell_type": "code",
   "execution_count": 43,
   "metadata": {},
   "outputs": [
    {
     "name": "stdout",
     "output_type": "stream",
     "text": [
      " 1) Add Car \n",
      " 2) Search Car \n",
      " 3) Update Owner \n",
      " 4) Quit \n",
      "1\n",
      "owner name: usman\n",
      "car plate: n4888\n",
      "Done\n",
      " 1) Add Car \n",
      " 2) Search Car \n",
      " 3) Update Owner \n",
      " 4) Quit \n",
      "2\n",
      "car plate: n4888\n",
      "['usman']\n",
      " 1) Add Car \n",
      " 2) Search Car \n",
      " 3) Update Owner \n",
      " 4) Quit \n",
      "3\n",
      "owner name: mehru\n",
      "car plate: n4888\n",
      "Done\n",
      " 1) Add Car \n",
      " 2) Search Car \n",
      " 3) Update Owner \n",
      " 4) Quit \n",
      "2\n",
      "car plate: n4888\n",
      "['mehru', 'usman']\n",
      " 1) Add Car \n",
      " 2) Search Car \n",
      " 3) Update Owner \n",
      " 4) Quit \n",
      "4\n"
     ]
    }
   ],
   "source": [
    "myDict = {}\n",
    "a = 1\n",
    "while(a != 4):\n",
    "    a = int(input(\" 1) Add Car \\n 2) Search Car \\n 3) Update Owner \\n 4) Quit \\n\"))\n",
    "    if (a == 1):\n",
    "        name = input(\"owner name: \")\n",
    "        plate = input (\"car plate: \")\n",
    "        addCar(myDict, plate, name)\n",
    "    if (a == 2):\n",
    "        plate = input (\"car plate: \")\n",
    "        print (findCar(myDict, plate))\n",
    "    if (a == 3):\n",
    "        name = input(\"owner name: \")\n",
    "        plate = input (\"car plate: \")\n",
    "        updateCar(myDict, plate, name)\n"
   ]
  },
  {
   "cell_type": "markdown",
   "metadata": {},
   "source": []
  }
 ],
 "metadata": {
  "kernelspec": {
   "display_name": "Python 3",
   "language": "python",
   "name": "python3"
  },
  "language_info": {
   "codemirror_mode": {
    "name": "ipython",
    "version": 3
   },
   "file_extension": ".py",
   "mimetype": "text/x-python",
   "name": "python",
   "nbconvert_exporter": "python",
   "pygments_lexer": "ipython3",
   "version": "3.6.6"
  }
 },
 "nbformat": 4,
 "nbformat_minor": 2
}
