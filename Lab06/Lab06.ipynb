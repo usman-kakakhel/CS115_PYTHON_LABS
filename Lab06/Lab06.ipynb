{
 "cells": [
  {
   "cell_type": "markdown",
   "metadata": {},
   "source": [
    "# CS 115 - Introduction to Programming in Python\n",
    "## Lab 06\n",
    "\n",
    "### Lab Objectives:  Two-D Lists, numpy arrays\n",
    "\n",
    "**Instructions:** In this lab, you will use Jupyter Notebook. Write your solutions in this notebook, rename it as SS_Lab06_Surname_FirstName.ipynb where SS is the section number 01, 02, 03, etc. and upload it to the Lab06 assignment on Moodle before the end of your lab session. "
   ]
  },
  {
   "cell_type": "markdown",
   "metadata": {},
   "source": [
    "## <font color=red>** Question 1**</font> \n",
    "### You will write code to store and manipulate two dimensional lists of data. Complete the steps below."
   ]
  },
  {
   "cell_type": "markdown",
   "metadata": {},
   "source": [
    "Write a function, ***valuesBefore()*** that takes a two-dimensional list of integers and an integer search value as parameters.  The function should search each column in the two-dimensional list, and count the number of values that come before the first occurrence of the search value in each column.  If the search value is not found in a column, the count should be -1. Store the counts in a one-dimensional list.  The function should return the list which stores the counts."
   ]
  },
  {
   "cell_type": "code",
   "execution_count": 29,
   "metadata": {},
   "outputs": [],
   "source": [
    "def valuesBefore(myList, search):\n",
    "    countList = [-1] * (len(myList))\n",
    "    print(myList[4][3])\n",
    "    for vertical in range(len(myList)):\n",
    "        for horizontal in range(len(myList[vertical]) ):\n",
    "            if (myList[vertical][horizontal] == search):\n",
    "                countList[vertical] = horizontal\n",
    "                break\n",
    "    return countList"
   ]
  },
  {
   "cell_type": "markdown",
   "metadata": {},
   "source": [
    "Using the function above, write code that initializes a two dimensional list of integer values.  Input a value from the user and display the counts of the values before, using the function defined above. See sample output below:\n",
    "\n",
    "Sample Run:\n",
    "Two D List of Values:\n",
    "\n",
    "[3, 4, 8, 6]\n",
    "\n",
    "[6, 2, 2, 5]\n",
    "\n",
    "[8, 7, 7, 9]\n",
    "\n",
    "[4, 6, 2, 3]\n",
    "\n",
    "[8, 9, 3, 8]\n",
    "\n",
    "Enter search value: 8\n",
    "\n",
    "Values before search value in each column:  [2, -1, 0, 4]\n"
   ]
  },
  {
   "cell_type": "code",
   "execution_count": 91,
   "metadata": {},
   "outputs": [
    {
     "name": "stdout",
     "output_type": "stream",
     "text": [
      "Two D List of Values: \n",
      "[3, 4, 8, 6]\n",
      "[6, 2, 2, 5]\n",
      "[8, 7, 7, 9]\n",
      "[4, 6, 2, 3]\n",
      "[8, 9, 3, 8]\n",
      "Enter search value: 2\n",
      "8\n",
      "Values before search value in each column:   [-1, 1, -1, 2, -1]\n"
     ]
    }
   ],
   "source": [
    "myList = [[3,4,8,6], [6,2,2,5], [8,7,7,9], [4,6,2,3], [8,9,3,8]]\n",
    "print(\"Two D List of Values: \")\n",
    "for n in myList:\n",
    "    print (n)\n",
    "\n",
    "search = int(input(\"Enter search value: \"))\n",
    "print(\"Values before search value in each column:  \", valuesBefore(myList, search))"
   ]
  },
  {
   "cell_type": "markdown",
   "metadata": {},
   "source": [
    "# ### You will use numpy arrays to store and manipulate data from files.  Complete the steps listed below:"
   ]
  },
  {
   "cell_type": "markdown",
   "metadata": {},
   "source": [
    "import numpy for use in your code"
   ]
  },
  {
   "cell_type": "code",
   "execution_count": 48,
   "metadata": {},
   "outputs": [],
   "source": [
    "import numpy as np"
   ]
  },
  {
   "cell_type": "markdown",
   "metadata": {},
   "source": [
    "Read data from the files product.txt, which contains the prices of a number of products and quantity.txt, which stores their quantities, into two numpy arrays."
   ]
  },
  {
   "cell_type": "code",
   "execution_count": 68,
   "metadata": {},
   "outputs": [],
   "source": [
    "product = np.loadtxt(\"product.txt\", skiprows=1)\n",
    "quantity = np.loadtxt(\"quantity.txt\", dtype='int')"
   ]
  },
  {
   "cell_type": "markdown",
   "metadata": {},
   "source": [
    "Display the prices and quantities."
   ]
  },
  {
   "cell_type": "code",
   "execution_count": 69,
   "metadata": {},
   "outputs": [
    {
     "name": "stdout",
     "output_type": "stream",
     "text": [
      "Products: \n",
      " [[ 87.   66.   22.5  90.  105. ]\n",
      " [100.   10.   22.   87.   45. ]]\n",
      "Quantity: \n",
      " [[100  57  22  96 115]\n",
      " [ 46 115  54  20  70]]\n"
     ]
    }
   ],
   "source": [
    "print(\"Products: \\n\", product)\n",
    "print(\"Quantity: \\n\", quantity)"
   ]
  },
  {
   "cell_type": "markdown",
   "metadata": {},
   "source": [
    "Increase the price of each product by 15% and display the updated prices."
   ]
  },
  {
   "cell_type": "code",
   "execution_count": 77,
   "metadata": {},
   "outputs": [
    {
     "name": "stdout",
     "output_type": "stream",
     "text": [
      "Products: \n",
      " [[100.05   75.9    25.875 103.5   120.75 ]\n",
      " [115.     11.5    25.3   100.05   51.75 ]]\n",
      "Quantity: \n",
      " [[100  57  22  96 115]\n",
      " [ 46 115  54  20  70]]\n"
     ]
    }
   ],
   "source": [
    "product= np.multiply(product, 1.15)\n",
    "print(\"Products: \\n\", product)\n",
    "print(\"Quantity: \\n\", quantity)"
   ]
  },
  {
   "cell_type": "markdown",
   "metadata": {},
   "source": [
    "Find and store the totals in a new array by multiplying the prices by the quantities and display the totals."
   ]
  },
  {
   "cell_type": "code",
   "execution_count": 80,
   "metadata": {},
   "outputs": [
    {
     "name": "stdout",
     "output_type": "stream",
     "text": [
      "Totals: \n",
      " [[10005.    4326.3    569.25  9936.   13886.25]\n",
      " [ 5290.    1322.5   1366.2   2001.    3622.5 ]]\n"
     ]
    }
   ],
   "source": [
    "totals = np.multiply(product, quantity)\n",
    "print(\"Totals: \\n\", totals)"
   ]
  },
  {
   "cell_type": "markdown",
   "metadata": {},
   "source": [
    "Save the totals to a file, totals.txt"
   ]
  },
  {
   "cell_type": "code",
   "execution_count": 81,
   "metadata": {},
   "outputs": [],
   "source": [
    "np.savetxt(\"totals.txt\", totals)"
   ]
  },
  {
   "cell_type": "markdown",
   "metadata": {},
   "source": [
    "Decrease each quantity in the array by 10 and save to a file, updated_quantity.txt"
   ]
  },
  {
   "cell_type": "code",
   "execution_count": 82,
   "metadata": {},
   "outputs": [],
   "source": [
    "updatedQuantity = numpy.subtract(quantity, 10)\n",
    "np.savetxt(\"updated_quantity.txt\", updatedQuantity)"
   ]
  },
  {
   "cell_type": "markdown",
   "metadata": {},
   "source": [
    "Calculate the percent change of each quantity and store in a new array. For each quantity display the percent change."
   ]
  },
  {
   "cell_type": "code",
   "execution_count": 87,
   "metadata": {},
   "outputs": [
    {
     "name": "stdout",
     "output_type": "stream",
     "text": [
      "%change in them\n",
      "[[0.1       ]\n",
      " [0.1754386 ]\n",
      " [0.45454545]\n",
      " [0.10416667]\n",
      " [0.08695652]\n",
      " [0.2173913 ]\n",
      " [0.08695652]\n",
      " [0.18518519]\n",
      " [0.5       ]\n",
      " [0.14285714]]\n"
     ]
    }
   ],
   "source": [
    "difference = numpy.subtract(quantity, updatedQuantity)\n",
    "pChange = numpy.divide(difference, quantity)\n",
    "pchange = numpy.divide(pChange, 100)\n",
    "print(\"%change in them\")\n",
    "print(pChange.reshape((10,1)))"
   ]
  },
  {
   "cell_type": "markdown",
   "metadata": {},
   "source": [
    "Calculate and display the total quantities for each row."
   ]
  },
  {
   "cell_type": "code",
   "execution_count": 88,
   "metadata": {},
   "outputs": [
    {
     "name": "stdout",
     "output_type": "stream",
     "text": [
      "[146 172  76 116 185]\n"
     ]
    }
   ],
   "source": [
    "print(np.sum(quantity, axis=0))"
   ]
  },
  {
   "cell_type": "markdown",
   "metadata": {},
   "source": [
    "Calculate and display the total quantities for each column."
   ]
  },
  {
   "cell_type": "code",
   "execution_count": 90,
   "metadata": {},
   "outputs": [
    {
     "name": "stdout",
     "output_type": "stream",
     "text": [
      "[[390]\n",
      " [305]]\n"
     ]
    }
   ],
   "source": [
    "print((np.sum(quantity, axis=1)).reshape((2,1)))"
   ]
  }
 ],
 "metadata": {
  "kernelspec": {
   "display_name": "Python 3",
   "language": "python",
   "name": "python3"
  },
  "language_info": {
   "codemirror_mode": {
    "name": "ipython",
    "version": 3
   },
   "file_extension": ".py",
   "mimetype": "text/x-python",
   "name": "python",
   "nbconvert_exporter": "python",
   "pygments_lexer": "ipython3",
   "version": "3.6.6"
  }
 },
 "nbformat": 4,
 "nbformat_minor": 2
}
